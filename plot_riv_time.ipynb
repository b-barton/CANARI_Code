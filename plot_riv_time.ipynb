{
 "cells": [
  {
   "cell_type": "code",
   "execution_count": null,
   "id": "e699727f",
   "metadata": {
    "lines_to_next_cell": 2
   },
   "outputs": [],
   "source": [
    "import numpy as np\n",
    "import glob\n",
    "import netCDF4 as nc\n",
    "import datetime as dt\n",
    "import sys\n",
    "import gsw as sw\n",
    "import cartopy.crs as ccrs\n",
    "import cartopy.feature as cfeature\n",
    "import matplotlib\n",
    "matplotlib.use('agg')\n",
    "import matplotlib.pyplot as plt\n",
    "import matplotlib.path as mpath\n",
    "import cftime\n",
    "import coast\n",
    "import xarray as xr"
   ]
  },
  {
   "cell_type": "code",
   "execution_count": null,
   "id": "c57df360",
   "metadata": {
    "lines_to_next_cell": 2
   },
   "outputs": [],
   "source": [
    "\n",
    "out_file = './Processed/'"
   ]
  },
  {
   "cell_type": "code",
   "execution_count": null,
   "id": "93e59de0-38b3-4c48-af45-d6b6ab224f60",
   "metadata": {
    "tags": []
   },
   "outputs": [],
   "source": [
    "# Load timeseries data\n",
    "\n",
    "data = np.load(out_file + 'riv.npz', allow_pickle=True)\n",
    "riv_time = data['riv_time']\n",
    "date = data['date']\n",
    "data.close()\n",
    "\n",
    "riv_time = np.ma.masked_where(riv_time==-1e20, riv_time)\n",
    "\n",
    "data = np.load(out_file + 'riv_mn_1990-2000.npz', allow_pickle=True)\n",
    "riv_map1 = data['riv_map']\n",
    "lat = data['lat']\n",
    "lon = data['lon']\n",
    "data.close()\n",
    "\n",
    "#riv_map1 = np.ma.masked_where(riv_map1==-1e20, riv_map1)\n",
    "riv_mean1= np.ma.mean(riv_map1, axis=0)\n",
    "riv_std1= np.ma.std(riv_map1, axis=0)\n",
    "riv_mean1 = np.ma.masked_where(riv_mean1<=0.0001, riv_mean1)\n",
    "riv_std1 = np.ma.masked_where(riv_mean1.mask, riv_std1)\n",
    "\n",
    "data = np.load(out_file + 'riv_mn_2040-2050.npz', allow_pickle=True)\n",
    "riv_map2 = data['riv_map']\n",
    "lat = data['lat']\n",
    "lon = data['lon']\n",
    "data.close()\n",
    "\n",
    "#riv_map2 = np.ma.masked_where(riv_map2==-1e20, riv_map2)\n",
    "riv_mean2 = np.ma.mean(riv_map2, axis=0)\n",
    "riv_std2 = np.ma.std(riv_map2, axis=0)\n",
    "#riv_mean2 = np.ma.masked_where(riv_mean1.mask, riv_mean2)\n",
    "#riv_std2 = np.ma.masked_where(riv_mean1.mask, riv_std2)\n",
    "\n",
    "plot_date = np.zeros((len(date)), dtype=object)\n",
    "for i in range(len(date)):\n",
    "    bb = date[i].timetuple()\n",
    "    plot_date[i] = dt.datetime(bb[0], bb[1], 1)"
   ]
  },
  {
   "cell_type": "code",
   "execution_count": null,
   "id": "e79ab445-c94d-4b6e-b0eb-e37ed06442af",
   "metadata": {},
   "outputs": [],
   "source": [
    "# Running mean\n",
    "\n",
    "run = 12\n",
    "riv_run = np.ma.zeros((riv_time.shape[0] - run, riv_time.shape[1]))\n",
    "date_run = np.zeros((len(plot_date) - run), dtype=object)\n",
    "\n",
    "for i in range(len(date_run)):\n",
    "    riv_run[i] = np.ma.mean(riv_time[i:i + run, :], axis=0)\n",
    "    date_run[i] = plot_date[i + (run // 2)]\n",
    "    "
   ]
  },
  {
   "cell_type": "markdown",
   "id": "ee167fa5-d9b1-46e5-831a-418c4666e2b7",
   "metadata": {},
   "source": [
    "Plot"
   ]
  },
  {
   "cell_type": "code",
   "execution_count": null,
   "id": "1b6a754c-c92a-4924-94ba-aa2168b92857",
   "metadata": {},
   "outputs": [],
   "source": [
    "def set_circle(ax):\n",
    "    # Compute a circle in axes coordinates, which we can use as a boundary\n",
    "    # for the map. We can pan/zoom as much as we like - the boundary will be\n",
    "    # permanently circular.\n",
    "    theta = np.linspace(0, 2 * np.pi, 100)\n",
    "    center, radius = [0.5, 0.5], 0.5\n",
    "    verts = np.vstack([np.sin(theta), np.cos(theta)]).T\n",
    "    circle = mpath.Path(verts * radius + center)\n",
    "    ax.set_boundary(circle, transform=ax.transAxes)"
   ]
  },
  {
   "cell_type": "code",
   "execution_count": null,
   "id": "76be8396-7fe0-4735-b662-858d7775ccd3",
   "metadata": {},
   "outputs": [],
   "source": [
    "data_crs = ccrs.PlateCarree()\n",
    "mrc = ccrs.NorthPolarStereo(central_longitude=0.0)\n",
    "\n",
    "my_cm = plt.cm.plasma"
   ]
  },
  {
   "cell_type": "code",
   "execution_count": null,
   "id": "90d7f202",
   "metadata": {
    "lines_to_next_cell": 2
   },
   "outputs": [],
   "source": [
    "fig1 = plt.figure(figsize=(12, 8))\n",
    "ax5 = fig1.add_axes([0.1, 0.66, 0.85, 0.3])\n",
    "\n",
    "ax1 = fig1.add_axes([0.01, 0.04, 0.23, 0.45], projection=mrc)\n",
    "ax2 = fig1.add_axes([0.26, 0.04, 0.23, 0.45], projection=mrc)\n",
    "ax3 = fig1.add_axes([0.51, 0.04, 0.23, 0.45], projection=mrc)\n",
    "ax4 = fig1.add_axes([0.76, 0.04, 0.23, 0.45], projection=mrc)\n",
    "\n",
    "cax1 = fig1.add_axes([0.03, 0.56, 0.19, 0.02])\n",
    "cax2 = fig1.add_axes([0.28, 0.56, 0.19, 0.02])\n",
    "cax3 = fig1.add_axes([0.53, 0.56, 0.19, 0.02])\n",
    "cax4 = fig1.add_axes([0.78, 0.56, 0.19, 0.02])\n",
    "\n",
    "size = (riv_mean1**2)*10000\n",
    "cs1 = ax1.scatter(lon, lat, c=riv_mean1, s=size, transform=data_crs, cmap=my_cm, vmin=0, vmax=0.02)\n",
    "cs2 = ax2.scatter(lon, lat, c=(riv_mean2 - riv_mean1), s=size, transform=data_crs, cmap=my_cm, vmin=-0.01, vmax=0.01)\n",
    "\n",
    "cs3 = ax3.scatter(lon, lat, c=riv_std1, s=size, transform=data_crs, cmap=my_cm, vmin=0, vmax=0.02)\n",
    "cs4 = ax4.scatter(lon, lat, c=(riv_std2 - riv_std1), s=size, transform=data_crs, cmap=my_cm, vmin=-0.002, vmax=0.002)\n",
    "\n",
    "ax5.plot(plot_date, riv_time[:, 0], color='tab:blue', alpha=0.5)\n",
    "ax5.plot(plot_date, riv_time[:, 1], color='tab:orange', alpha=0.5)\n",
    "ax5.plot(plot_date, riv_time[:, 2], color='tab:green', alpha=0.5)\n",
    "\n",
    "ax5.plot(date_run, riv_run[:, 0], color='tab:blue', label='> 70 N')\n",
    "ax5.plot(date_run, riv_run[:, 1], color='tab:orange', label='> 75 N')\n",
    "ax5.plot(date_run, riv_run[:, 2], color='tab:green', label='> 80 N')\n",
    "\n",
    "ax5.plot([dt.datetime(1990, 1, 1), dt.datetime(1990, 1, 1), dt.datetime(2000, 1, 1), dt.datetime(2000, 1, 1), dt.datetime(1990, 1, 1)], \n",
    "         [-4e22, 4e22, 4e22, -4e22, -4e22], 'k', zorder=105)\n",
    "ax5.plot([dt.datetime(2040, 1, 1), dt.datetime(2040, 1, 1), dt.datetime(2050, 1, 1), dt.datetime(2050, 1, 1), dt.datetime(2040, 1, 1)], \n",
    "         [-4e22, 4e22, 4e22, -4e22, -4e22], 'k', zorder=105)\n",
    "\n",
    "ax1.add_feature(cfeature.LAND, zorder=100)\n",
    "ax1.gridlines()\n",
    "ax1.set_extent([-180, 180, 60, 90], crs=data_crs)\n",
    "set_circle(ax1)\n",
    "\n",
    "ax2.add_feature(cfeature.LAND, zorder=100)\n",
    "ax2.gridlines()\n",
    "ax2.set_extent([-180, 180, 60, 90], crs=data_crs)\n",
    "set_circle(ax2)\n",
    "\n",
    "ax3.add_feature(cfeature.LAND, zorder=100)\n",
    "ax3.gridlines()\n",
    "ax3.set_extent([-180, 180, 60, 90], crs=data_crs)\n",
    "set_circle(ax3)\n",
    "\n",
    "ax4.add_feature(cfeature.LAND, zorder=100)\n",
    "ax4.gridlines()\n",
    "ax4.set_extent([-180, 180, 60, 90], crs=data_crs)\n",
    "set_circle(ax4)\n",
    "\n",
    "ax5.set_ylim([0, 2.5e8])\n",
    "ax5.set_xlim([dt.datetime(1950, 1, 1), dt.datetime(2051, 1, 1)])\n",
    "ax5.legend(loc='upper right')\n",
    "ax5.set_ylabel('River Flux Mean (kg s$^{-1}$)')\n",
    "\n",
    "ax5.annotate('(a)', (0.05, 0.95), xycoords='axes fraction', bbox=dict(boxstyle=\"round\", fc=\"w\"), zorder=105)\n",
    "\n",
    "ax1.annotate('(b) 1990s', (0.05, 0.95), xycoords='axes fraction', bbox=dict(boxstyle=\"round\", fc=\"w\"), zorder=105)\n",
    "ax2.annotate('(c) 2040s', (0.05, 0.95), xycoords='axes fraction', bbox=dict(boxstyle=\"round\", fc=\"w\"), zorder=105)\n",
    "ax3.annotate('(d) 1990s', (0.05, 0.95), xycoords='axes fraction', bbox=dict(boxstyle=\"round\", fc=\"w\"), zorder=105)\n",
    "ax4.annotate('(e) 2040s', (0.05, 0.95), xycoords='axes fraction', bbox=dict(boxstyle=\"round\", fc=\"w\"), zorder=105)\n",
    "\n",
    "\n",
    "fig1.colorbar(cs1, cax=cax1, orientation='horizontal')\n",
    "cax1.set_xlabel('River flux (kg m$^{-2}$ s$^{-1}$)')\n",
    "\n",
    "fig1.colorbar(cs2, cax=cax2, orientation='horizontal')\n",
    "cax2.set_xlabel('Diff. River (kg m$^{-2}$ s$^{-1}$)')\n",
    "\n",
    "fig1.colorbar(cs3, cax=cax3, orientation='horizontal')\n",
    "cax3.set_xlabel('River StD. (kg m$^{-2}$ s$^{-1}$)')\n",
    "\n",
    "fig1.colorbar(cs4, cax=cax4, orientation='horizontal')\n",
    "cax4.set_xlabel('Diff. River StD. (kg m$^{-2}$ s$^{-1}$)')"
   ]
  },
  {
   "cell_type": "code",
   "execution_count": null,
   "id": "3278c989",
   "metadata": {
    "lines_to_next_cell": 2
   },
   "outputs": [],
   "source": [
    "fig1.savefig('./Figures/riv_time.png')\n"
   ]
  }
 ],
 "metadata": {
  "jupytext": {
   "cell_metadata_filter": "-all",
   "encoding": "# coding: utf-8",
   "executable": "/usr/bin/env python",
   "main_language": "python",
   "notebook_metadata_filter": "-all"
  },
  "kernelspec": {
   "display_name": "Python 3 + Jaspy",
   "language": "python",
   "name": "jaspy"
  },
  "language_info": {
   "codemirror_mode": {
    "name": "ipython",
    "version": 3
   },
   "file_extension": ".py",
   "mimetype": "text/x-python",
   "name": "python",
   "nbconvert_exporter": "python",
   "pygments_lexer": "ipython3",
   "version": "3.10.5"
  }
 },
 "nbformat": 4,
 "nbformat_minor": 5
}
