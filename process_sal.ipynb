{
 "cells": [
  {
   "cell_type": "code",
   "execution_count": null,
   "id": "e699727f",
   "metadata": {
    "lines_to_next_cell": 2
   },
   "outputs": [],
   "source": [
    "import numpy as np\n",
    "import glob\n",
    "import netCDF4 as nc\n",
    "import datetime as dt\n",
    "import sys\n",
    "import gsw as sw\n",
    "import cartopy.crs as ccrs\n",
    "import cartopy.feature as cfeature\n",
    "import matplotlib\n",
    "matplotlib.use('agg')\n",
    "import matplotlib.pyplot as plt\n",
    "import matplotlib.path as mpath\n",
    "import cftime\n",
    "import coast\n",
    "import xarray as xr"
   ]
  },
  {
   "cell_type": "code",
   "execution_count": null,
   "id": "c57df360",
   "metadata": {
    "lines_to_next_cell": 2
   },
   "outputs": [],
   "source": [
    "\n",
    "var = 'so' # thetao, so, uo, vo, siconc, siage, sivol, sithick, siu, siv, \n",
    "i_o = 'O' # SI or O for sea ice or ocean\n",
    "freq = 'mon' # mon or day\n",
    "time_s = 'highres-future' # 'highres-future' or 'hist-1950'\n",
    "\n",
    "def make_path(var, i_o, freq, time_s):\n",
    "    if 'future' in time_s:\n",
    "        ddir = 'MOHC'\n",
    "    else:\n",
    "        ddir = 'NERC'\n",
    "    root = '/badc/cmip6/data/CMIP6/HighResMIP/' + ddir + '/HadGEM3-GC31-HH/' + time_s + '/r1i1p1f1/'\n",
    "    return root + i_o + freq + '/' + var + '/gn/latest/' + var + '_' + i_o + freq + '_HadGEM3-GC31-HH_' + time_s + '_r1i1p1f1_gn_*.nc'\n",
    "\n",
    "fn_nemo_dat_s1 = make_path('so', i_o, freq, 'hist-1950')\n",
    "fn_nemo_dat_s2 = make_path('so', i_o, freq, time_s)\n",
    "\n",
    "\n",
    "domain_root = '/gws/nopw/j04/nemo_vol5/acc/eORCA12-N512/domain/'\n",
    "fn_nemo_dom1 = domain_root + 'eORCA12_coordinates.nc'\n",
    "fn_nemo_dom = domain_root + 'mesh_mask_eORCA12_v2.4.nc'\n",
    "fn_nemo_bathy = domain_root + 'eORCA12_bathymetry_v2.4.nc'\n",
    "fn_config_t_grid = './config/gc31_nemo_grid_t.json'\n",
    "\n",
    "out_file = './Processed/'"
   ]
  },
  {
   "cell_type": "code",
   "execution_count": null,
   "id": "d47c6799",
   "metadata": {},
   "outputs": [],
   "source": [
    "use_xarray = False\n",
    "now = dt.datetime.now()\n",
    "\n",
    "flist_s = sorted(glob.glob(fn_nemo_dat_s1))\n",
    "flist_s.extend(sorted(glob.glob(fn_nemo_dat_s2)))\n",
    "               \n",
    "if use_xarray:\n",
    "    nemo_t = coast.Gridded(fn_data = flist_t[:12], fn_domain = fn_nemo_dom, config=fn_config_t_grid, multiple=True)\n",
    "    nemo_s = coast.Gridded(fn_data = flist_s[:12], fn_domain = fn_nemo_dom, config=fn_config_t_grid, multiple=True)\n",
    "    nemo_t.dataset['salinity'] = nemo_s.dataset.salinity\n",
    "\n",
    "    print(nemo_t.dataset.longitude.shape)\n",
    "else:\n",
    "    v_map = {}\n",
    "    v_map['e1t'] = 'e1t'\n",
    "    v_map['e2t'] = 'e2t'\n",
    "    v_map['e3t_0'] = 'e3t_0'\n",
    "    v_map['tmask'] = 'tmask'\n",
    "    v_map['lat'] = 'latitude'\n",
    "    v_map['lon'] = 'longitude'\n",
    "    v_map['depth'] = 'lev'\n",
    "    v_map['time'] = 'time'\n",
    "    v_map['temp'] = 'thetao'\n",
    "    v_map['sal'] = 'so' \n",
    "\n",
    "    \n",
    "    with nc.Dataset(fn_nemo_dom, 'r') as nc_fid:\n",
    "        e1t = nc_fid.variables[v_map['e1t']][0, ...] # t, y, x\n",
    "        e2t = nc_fid.variables[v_map['e2t']][0, ...]\n",
    "        e3t = nc_fid.variables[v_map['e3t_0']][0, ...] # t, z, y, x\n",
    "        tmask = nc_fid.variables[v_map['tmask']][0, :, 1:-1, 1:-1]\n",
    "        \n",
    "    with nc.Dataset(flist_s[0], 'r') as nc_fid:\n",
    "        lat = nc_fid.variables[v_map['lat']][:]\n",
    "        lon = nc_fid.variables[v_map['lon']][:]\n",
    "        depth = nc_fid.variables[v_map['depth']][:]\n",
    "        sal = nc_fid.variables[v_map['sal']][0, ...]\n",
    "\n",
    "    sal = np.ma.masked_where((sal==1e20) | (tmask==1), sal)\n",
    "    mask = sal.mask"
   ]
  },
  {
   "cell_type": "markdown",
   "id": "debf5187-857b-47bd-90c4-22c1d3cd7cf8",
   "metadata": {},
   "source": [
    "Subset data"
   ]
  },
  {
   "cell_type": "code",
   "execution_count": null,
   "id": "5dec2799",
   "metadata": {
    "lines_to_next_cell": 2
   },
   "outputs": [],
   "source": [
    "#print(nemo_t.dataset)"
   ]
  },
  {
   "cell_type": "code",
   "execution_count": null,
   "id": "c8c5164b",
   "metadata": {
    "lines_to_next_cell": 2
   },
   "outputs": [],
   "source": [
    "yi1 = 2800\n",
    "\n",
    "if use_xarray:\n",
    "    yi2 = nemo_t.dataset.longitude.shape[0]\n",
    "    ind_y = np.arange(yi1, yi2).astype(int)\n",
    "    #print(yi2, ind_y)\n",
    "    nemo_t_subset = nemo_t.isel(y_dim=ind_y)\n",
    "    print(nemo_t_subset.dataset)\n",
    "else:\n",
    "    lat = lat[yi1:, :]\n",
    "    lon = lon[yi1:, :]\n",
    "    mask = mask[:, yi1:, :]"
   ]
  },
  {
   "cell_type": "markdown",
   "id": "90c543ee-0efc-48cc-86a5-7139ab51579c",
   "metadata": {},
   "source": [
    "Time slice. Notes dates are 360 day years so use cftime"
   ]
  },
  {
   "cell_type": "code",
   "execution_count": null,
   "id": "481b58fd",
   "metadata": {},
   "outputs": [],
   "source": [
    "# change this to decrease resolution but decrease run time\n",
    "sub = 10\n",
    "\n",
    "if use_xarray:\n",
    "    ds_dom = xr.open_dataset(fn_nemo_dom).squeeze().rename({\"z\": \"z_dim\", \"x\": \"x_dim\", \"y\": \"y_dim\"})\n",
    "    #e1t = ds_dom.e1t[yi1+1:-1:sub, 1:-1:sub] # y, x\n",
    "    #e2t = ds_dom.e2t[yi1+1:-1:sub, 1:-1:sub]\n",
    "    #e3t = ds_dom.e3t_0[:, yi1+1:-1:sub, 1:-1:sub] # z, y, x\n",
    "    ind_y = np.arange(yi1+1, yi2-1, sub).astype(int)\n",
    "    ind_x = np.arange(1, nemo_t_subset.dataset.longitude.shape[1]-1, sub).astype(int)\n",
    "    e1t = ds_dom.e1t.isel(y_dim=ind_y, x_dim=ind_x) # y, x\n",
    "    e2t = ds_dom.e2t.isel(y_dim=ind_y, x_dim=ind_x)\n",
    "    e3t = ds_dom.e3t_0.isel(y_dim=ind_y, x_dim=ind_x) # z, y, x   \n",
    "else:\n",
    "    e1t = e1t[yi1+1:-1:sub, 1:-1:sub] # y, x\n",
    "    e2t = e2t[yi1+1:-1:sub, 1:-1:sub]\n",
    "    e3t = e3t[:, yi1+1:-1:sub, 1:-1:sub] # z, y, x\n",
    "    \n",
    "e1t = np.tile(e1t, (e3t.shape[0], 1, 1))\n",
    "e2t = np.tile(e2t, (e3t.shape[0], 1, 1))\n",
    "print(e3t.shape, e1t.shape)\n",
    "volume = e1t * e2t * e3t\n",
    "\n",
    "      \n",
    "if use_xarray:\n",
    "    ind_y = np.arange(0, nemo_t_subset.dataset.longitude.shape[0], sub).astype(int)\n",
    "    ind_x = np.arange(0, nemo_t_subset.dataset.longitude.shape[1], sub).astype(int)\n",
    "    nemo_t_subset = nemo_t_subset.isel(y_dim=ind_y, x_dim=ind_x)\n",
    "    lat = nemo_t_subset.dataset.latitude.values\n",
    "    lon = nemo_t_subset.dataset.longitude.values\n",
    "    #lat = nemo_t_subset.dataset.latitude.values[::sub, ::sub]\n",
    "    #lon = nemo_t_subset.dataset.longitude.values[::sub, ::sub]\n",
    "    depth = nemo_t_subset.dataset.depth_0.values[:]\n",
    "else:\n",
    "    lat = lat[::sub, ::sub]\n",
    "    lon = lon[::sub, ::sub]\n",
    "    mask = mask[:, ::sub, ::sub]\n",
    "    \n",
    "depth_g = np.tile(depth, (lon.shape[1], lon.shape[0], 1)).T\n",
    "mask_south = np.zeros((lat.shape[0], lat.shape[1], 3), dtype=bool)\n",
    "mask_south[:, :, 0] = lat < 70\n",
    "mask_south[:, :, 1] = lat < 75\n",
    "mask_south[:, :, 2] = lat < 80\n",
    "\n",
    "if use_xarray:\n",
    "    heat_time = np.ma.zeros((nemo_t_subset.dataset.t_dim.shape[0]))\n",
    "    date = np.zeros((nemo_t_subset.dataset.t_dim.shape[0]), dtype=object)\n",
    "    for i in range(nemo_t_subset.dataset.t_dim.shape[0]):\n",
    "        temp = nemo_t_subset.dataset.temperature.isel(t_dim=i).to_masked_array() # time, lev, j, i\n",
    "        sal = nemo_t_subset.dataset.salinity.isel(t_dim=i).to_masked_array()\n",
    "        #temp = nemo_t_subset.dataset.temperature[i, :, ::sub, ::sub].to_masked_array() # time, lev, j, i\n",
    "        #sal = nemo_t_subset.dataset.salinity[i, :, ::sub, ::sub].to_masked_array()\n",
    "        rho, ct = calc_rho(sal, temp, depth_g, lon, lat)\n",
    "    \n",
    "        heat_cont = np.ma.sum(calc_heat(rho, ct) * volume, axis=0) # vertically integrated\n",
    "        heat_pole = np.ma.masked_where(mask_south[:, :, 0], heat_cont)\n",
    "        heat_time[i] = np.ma.sum(heat_pole)\n",
    "        date[i] = nemo_t_subset.dataset.time.isel(t_dim=i).values\n",
    "        print(date[i])\n",
    "else:\n",
    "    sal_time = np.ma.zeros((len(flist_s), 3))\n",
    "    ref = 'days since 1950-01-01'\n",
    "    date = np.zeros((len(flist_s)), dtype=object)\n",
    "    for i in range(len(flist_s)):\n",
    "        with nc.Dataset(flist_s[i], 'r') as nc_fid:\n",
    "            sal = nc_fid.variables[v_map['sal']][0, :, yi1::sub, ::sub] # time, lev, j, i\n",
    "            time = nc_fid.variables[v_map['time']][:]\n",
    "        \n",
    "        sal = np.ma.masked_where((sal==1e20), sal)       \n",
    "    \n",
    "        for j in range(mask_south.shape[2]):\n",
    "            sal_pole = np.ma.masked_where(mask_south[:, :, j], sal[0, :, :])\n",
    "            sal_time[i, j] = np.ma.mean(sal_pole) \n",
    "        date[i] = cftime.num2date(time, ref, calendar='360_day')[0]\n",
    "        print(date[i])\n",
    "\n",
    "                                         "
   ]
  },
  {
   "cell_type": "markdown",
   "id": "ee167fa5-d9b1-46e5-831a-418c4666e2b7",
   "metadata": {},
   "source": [
    "Save data"
   ]
  },
  {
   "cell_type": "code",
   "execution_count": null,
   "id": "9f8a29af-8460-4317-ad53-5679a2433bfb",
   "metadata": {},
   "outputs": [],
   "source": [
    "print('Runtime:', dt.datetime.now() - now)\n",
    "sal_time = sal_time.filled(-1e20)\n",
    "np.savez(out_file + 'sal.npz', sal_time=sal_time, date=date)"
   ]
  }
 ],
 "metadata": {
  "jupytext": {
   "cell_metadata_filter": "-all",
   "encoding": "# coding: utf-8",
   "executable": "/usr/bin/env python",
   "main_language": "python",
   "notebook_metadata_filter": "-all"
  },
  "kernelspec": {
   "display_name": "Python 3 + Jaspy",
   "language": "python",
   "name": "jaspy"
  },
  "language_info": {
   "codemirror_mode": {
    "name": "ipython",
    "version": 3
   },
   "file_extension": ".py",
   "mimetype": "text/x-python",
   "name": "python",
   "nbconvert_exporter": "python",
   "pygments_lexer": "ipython3",
   "version": "3.10.5"
  }
 },
 "nbformat": 4,
 "nbformat_minor": 5
}
