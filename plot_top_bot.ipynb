{
 "cells": [
  {
   "cell_type": "code",
   "execution_count": null,
   "id": "e699727f",
   "metadata": {
    "lines_to_next_cell": 2
   },
   "outputs": [],
   "source": [
    "import numpy as np\n",
    "import glob\n",
    "import netCDF4 as nc\n",
    "import datetime as dt\n",
    "import sys\n",
    "import gsw as sw\n",
    "import cartopy.crs as ccrs\n",
    "import cartopy.feature as cfeature\n",
    "import matplotlib\n",
    "matplotlib.use('agg')\n",
    "import matplotlib.pyplot as plt\n",
    "import matplotlib.path as mpath\n",
    "import cftime\n",
    "import coast"
   ]
  },
  {
   "cell_type": "code",
   "execution_count": null,
   "id": "c57df360",
   "metadata": {
    "lines_to_next_cell": 2
   },
   "outputs": [],
   "source": [
    "#fn_en4 = '/gws/nopw/j04/orchestra_vol2/benbar/Data/Processed/en4_processed.nc'\n",
    "var = 'thetao' # thetao, so, uo, vo, siconc, siage, sivol, sithick, siu, siv, \n",
    "i_o = 'O' # SI or O for sea ice or ocean\n",
    "freq = 'mon' # mon or day\n",
    "root = '/badc/cmip6/data/CMIP6/HighResMIP/NERC/HadGEM3-GC31-HH/hist-1950/r1i1p1f1/'\n",
    "root = '/badc/cmip6/data/CMIP6/HighResMIP/MOHC/HadGEM3-GC31-HH/highres-future/r1i1p1f1/'\n",
    "fn_nemo_dat_t = root + i_o + freq + '/' + var + '/gn/latest/' + var + '_' + i_o + freq + '_HadGEM3-GC31-HH_hist-1950_r1i1p1f1_gn_*.nc'\n",
    "fn_nemo_dat_t = root + i_o + freq + '/' + var + '/gn/latest/' + var + '_' + i_o + freq + '_HadGEM3-GC31-HH_highres-future_r1i1p1f1_gn_*.nc'\n",
    "\n",
    "var = 'so' # thetao, so, uo, vo, siconc, siage, sivol, sithick, siu, siv, \n",
    "fn_nemo_dat_s = root + i_o + freq + '/' + var + '/gn/latest/' + var + '_' + i_o + freq + '_HadGEM3-GC31-HH_hist-1950_r1i1p1f1_gn_*.nc'\n",
    "fn_nemo_dat_s = root + i_o + freq + '/' + var + '/gn/latest/' + var + '_' + i_o + freq + '_HadGEM3-GC31-HH_highres-future_r1i1p1f1_gn_*.nc'\n",
    "\n",
    "domain_root = '/gws/nopw/j04/nemo_vol5/acc/eORCA12-N512/domain/'\n",
    "fn_nemo_dom1 = domain_root + 'eORCA12_coordinates.nc'\n",
    "fn_nemo_dom = domain_root + 'mesh_mask_eORCA12_v2.4.nc'\n",
    "fn_nemo_bathy = domain_root + 'eORCA12_bathymetry_v2.4.nc'\n",
    "fn_config_t_grid = './config/gc31_nemo_grid_t.json'\n",
    "\n",
    "out_file = './Processed/'"
   ]
  },
  {
   "cell_type": "code",
   "execution_count": null,
   "id": "d47c6799",
   "metadata": {},
   "outputs": [],
   "source": [
    "flist_t = sorted(glob.glob(fn_nemo_dat_t))\n",
    "flist_s = sorted(glob.glob(fn_nemo_dat_s))\n",
    "nemo_t = coast.Gridded(fn_data = flist_t[-1], fn_domain = fn_nemo_dom, config=fn_config_t_grid)\n",
    "nemo_s = coast.Gridded(fn_data = flist_s[-1], fn_domain = fn_nemo_dom, config=fn_config_t_grid)\n",
    "nemo_t.dataset['salinity'] = nemo_s.dataset.salinity\n",
    "\n",
    "with nc.Dataset(fn_nemo_bathy, 'r') as nc_fid:\n",
    "  bathy = nc_fid.variables['Bathymetry'][:]\n",
    "\n",
    "print(nemo_t.dataset.longitude.shape)\n"
   ]
  },
  {
   "cell_type": "markdown",
   "id": "debf5187-857b-47bd-90c4-22c1d3cd7cf8",
   "metadata": {},
   "source": [
    "Subset data"
   ]
  },
  {
   "cell_type": "code",
   "execution_count": null,
   "id": "5dec2799",
   "metadata": {
    "lines_to_next_cell": 2
   },
   "outputs": [],
   "source": [
    "#print(nemo_t.dataset)"
   ]
  },
  {
   "cell_type": "code",
   "execution_count": null,
   "id": "5962a03c",
   "metadata": {
    "lines_to_next_cell": 2
   },
   "outputs": [],
   "source": [
    "lon_min = 0\n",
    "lon_max = 360\n",
    "lat_min = 70\n",
    "lat_max = 90"
   ]
  },
  {
   "cell_type": "code",
   "execution_count": null,
   "id": "c8c5164b",
   "metadata": {
    "lines_to_next_cell": 2
   },
   "outputs": [],
   "source": [
    "yi1 = 2300\n",
    "yi2 = nemo_t.dataset.longitude.shape[0]\n",
    "ind_y = np.arange(yi1, yi2).astype(int)\n",
    "#print(yi2, ind_y)\n",
    "nemo_t_subset = nemo_t.isel(y_dim=ind_y)"
   ]
  },
  {
   "cell_type": "markdown",
   "id": "90c543ee-0efc-48cc-86a5-7139ab51579c",
   "metadata": {},
   "source": [
    "Time slice. Notes dates are 360 day years so use cftime"
   ]
  },
  {
   "cell_type": "code",
   "execution_count": null,
   "id": "8967cfd1-5c17-4c46-bb59-b187eb9ad5ad",
   "metadata": {},
   "outputs": [],
   "source": [
    "# Does not work\n",
    "#st_date = cftime.datetime(2050, 12, 1)\n",
    "#en_date = cftime.datetime(2051, 1, 1) \n",
    "#nemo_t_subset = nemo_t_subset.time_slice(st_date, en_date)"
   ]
  },
  {
   "cell_type": "code",
   "execution_count": null,
   "id": "f169cf3b",
   "metadata": {},
   "outputs": [],
   "source": [
    "print(nemo_t_subset.dataset)"
   ]
  },
  {
   "cell_type": "code",
   "execution_count": null,
   "id": "481b58fd",
   "metadata": {},
   "outputs": [],
   "source": [
    "#nemo_t_subset.construct_density(eos='EOS10')#, pot_dens=True)\n",
    "\n",
    "def calc_rho(sp, tp, depth, lon, lat):\n",
    "  pres = sw.p_from_z(depth * -1, lat)\n",
    "  sa = sw.SA_from_SP(sp, pres, lon, lat)\n",
    "  ct = sw.CT_from_pt(sa, tp)\n",
    "  rho = sw.rho(sa, ct, 0)\n",
    "  return rho\n",
    "\n",
    "# change this to decrease resolution but decrease run time\n",
    "sub = 5\n",
    "\n",
    "lat = nemo_t_subset.dataset.latitude.values[::sub, ::sub]\n",
    "lon = nemo_t_subset.dataset.longitude.values[::sub, ::sub]\n",
    "depth = nemo_t_subset.dataset.depth_0.values[:]\n",
    "temp = nemo_t_subset.dataset.temperature[0, :, ::sub, ::sub].to_masked_array() # time, lev, j, i\n",
    "sal = nemo_t_subset.dataset.salinity[0, :, ::sub, ::sub].to_masked_array()\n",
    "depth_g = np.tile(depth, (sal.shape[2], sal.shape[1], 1)).T\n",
    "rho = calc_rho(sal, temp, depth_g, lon, lat)\n",
    "\n"
   ]
  },
  {
   "cell_type": "markdown",
   "id": "f1a54bc5-e685-4c08-89ba-a4dd4423e0d9",
   "metadata": {},
   "source": [
    "Find bottom index"
   ]
  },
  {
   "cell_type": "code",
   "execution_count": null,
   "id": "8314bbfb",
   "metadata": {
    "lines_to_next_cell": 2
   },
   "outputs": [],
   "source": [
    "bot_ind = np.zeros(lon.shape, dtype=int)\n",
    "bot_temp = np.ma.zeros(lon.shape)\n",
    "bot_sal = np.ma.zeros(lon.shape)\n",
    "bot_rho = np.ma.zeros(lon.shape)\n",
    "print(lon.shape)"
   ]
  },
  {
   "cell_type": "code",
   "execution_count": null,
   "id": "2569548b",
   "metadata": {},
   "outputs": [],
   "source": [
    "for i in range(lon.shape[0]):\n",
    "  for j in range(lon.shape[1]):\n",
    "    ind = np.nonzero(np.invert(temp.mask[:, i, j]))[0]\n",
    "    if len(ind) == 0:\n",
    "      ind = 0\n",
    "    else:\n",
    "      ind = ind[-1]\n",
    "    bot_ind[i, j] = ind\n",
    "    bot_temp[i, j] = temp[ind, i, j]\n",
    "    bot_sal[i, j] = sal[ind, i, j]\n",
    "    bot_rho[i, j] = rho[ind, i, j]\n"
   ]
  },
  {
   "cell_type": "markdown",
   "id": "ee167fa5-d9b1-46e5-831a-418c4666e2b7",
   "metadata": {},
   "source": [
    "Plot"
   ]
  },
  {
   "cell_type": "code",
   "execution_count": null,
   "id": "61d0616d",
   "metadata": {
    "lines_to_next_cell": 2
   },
   "outputs": [],
   "source": [
    "def set_circle(ax):\n",
    "  # Compute a circle in axes coordinates, which we can use as a boundary\n",
    "  # for the map. We can pan/zoom as much as we like - the boundary will be\n",
    "  # permanently circular.\n",
    "  theta = np.linspace(0, 2 * np.pi, 100)\n",
    "  center, radius = [0.5, 0.5], 0.5\n",
    "  verts = np.vstack([np.sin(theta), np.cos(theta)]).T\n",
    "  circle = mpath.Path(verts * radius + center)\n",
    "  ax.set_boundary(circle, transform=ax.transAxes)"
   ]
  },
  {
   "cell_type": "code",
   "execution_count": null,
   "id": "f0230b4a",
   "metadata": {
    "lines_to_next_cell": 2
   },
   "outputs": [],
   "source": [
    "data_crs = ccrs.PlateCarree()\n",
    "mrc = ccrs.NorthPolarStereo(central_longitude=0.0)\n",
    "#mrc = 'polar'\n",
    "my_cm = plt.cm.plasma"
   ]
  },
  {
   "cell_type": "code",
   "execution_count": null,
   "id": "11acf59b",
   "metadata": {
    "lines_to_next_cell": 2
   },
   "outputs": [],
   "source": [
    "fig1 = plt.figure(figsize=(10, 6))\n",
    "ax1 = fig1.add_axes([0.1, 0.05, 0.35, 0.8], projection=mrc)\n",
    "ax2 = fig1.add_axes([0.55, 0.05, 0.35, 0.8], projection=mrc)\n",
    "cax1 = fig1.add_axes([0.1, 0.94, 0.35, 0.02])\n",
    "cax2 = fig1.add_axes([0.55, 0.94, 0.35, 0.02])\n",
    "\n",
    "cs1 = ax1.pcolormesh(lon, lat, lon, transform=data_crs, cmap=my_cm)\n",
    "cs2 = ax2.pcolormesh(lon, lat, lat, transform=data_crs, cmap=my_cm)\n",
    "\n",
    "ax1.add_feature(cfeature.LAND, zorder=100)\n",
    "ax2.add_feature(cfeature.LAND, zorder=100)\n",
    "ax1.gridlines()\n",
    "ax2.gridlines()\n",
    "\n",
    "ax1.set_extent([-180, 180, 60, 90], crs=data_crs)\n",
    "ax2.set_extent([-180, 180, 60, 90], crs=data_crs)\n",
    "\n",
    "set_circle(ax1)\n",
    "set_circle(ax2)\n",
    "\n",
    "fig1.colorbar(cs1, cax=cax1, orientation='horizontal')\n",
    "fig1.colorbar(cs2, cax=cax2, orientation='horizontal')\n",
    "\n",
    "cax1.set_xlabel('Longitude')\n",
    "cax2.set_xlabel('Latitude')"
   ]
  },
  {
   "cell_type": "code",
   "execution_count": null,
   "id": "90d7f202",
   "metadata": {
    "lines_to_next_cell": 2
   },
   "outputs": [],
   "source": [
    "fig2 = plt.figure(figsize=(12, 6))\n",
    "ax1 = fig2.add_axes([0.03, 0.03, 0.3, 0.85], projection=mrc)\n",
    "ax2 = fig2.add_axes([0.36, 0.03, 0.3, 0.85], projection=mrc)\n",
    "ax3 = fig2.add_axes([0.69, 0.03, 0.3, 0.85], projection=mrc)\n",
    "cax1 = fig2.add_axes([0.03, 0.94, 0.3, 0.02])\n",
    "cax2 = fig2.add_axes([0.36, 0.94, 0.3, 0.02])\n",
    "cax3 = fig2.add_axes([0.69, 0.94, 0.3, 0.02])\n",
    "\n",
    "cs1 = ax1.pcolormesh(lon, lat, temp[0, :, :], vmin=-2, vmax=15, transform=data_crs, cmap=my_cm)\n",
    "cs2 = ax2.pcolormesh(lon, lat, sal[0, :, :], vmin=25, vmax=36, transform=data_crs, cmap=my_cm)\n",
    "cs3 = ax3.pcolormesh(lon, lat, rho[0, :, :], vmin=1020, vmax=1028.5, transform=data_crs, cmap=my_cm)\n",
    "\n",
    "ax1.add_feature(cfeature.LAND, zorder=100)\n",
    "ax2.add_feature(cfeature.LAND, zorder=100)\n",
    "ax3.add_feature(cfeature.LAND, zorder=100)\n",
    "ax1.gridlines()\n",
    "ax2.gridlines()\n",
    "ax3.gridlines()\n",
    "\n",
    "ax1.set_extent([-180, 180, 60, 90], crs=data_crs)\n",
    "ax2.set_extent([-180, 180, 60, 90], crs=data_crs)\n",
    "ax3.set_extent([-180, 180, 60, 90], crs=data_crs)\n",
    "set_circle(ax1)\n",
    "set_circle(ax2)\n",
    "set_circle(ax3)\n",
    "\n",
    "\n",
    "ax1.annotate('(a)', (0.05, 0.95), xycoords='axes fraction', bbox=dict(boxstyle=\"round\", fc=\"w\"), zorder=105)\n",
    "ax2.annotate('(b)', (0.05, 0.95), xycoords='axes fraction', bbox=dict(boxstyle=\"round\", fc=\"w\"), zorder=105)\n",
    "ax3.annotate('(c)', (0.05, 0.95), xycoords='axes fraction', bbox=dict(boxstyle=\"round\", fc=\"w\"), zorder=105)\n",
    "\n",
    "fig2.colorbar(cs1, cax=cax1, orientation='horizontal')\n",
    "fig2.colorbar(cs2, cax=cax2, orientation='horizontal')\n",
    "fig2.colorbar(cs3, cax=cax3, orientation='horizontal')\n",
    "\n",
    "cax1.set_xlabel('Temperature ($^{\\circ}C$)')\n",
    "cax2.set_xlabel('Salinity')\n",
    "cax3.set_xlabel('Density (kg/m$^{3}$)')"
   ]
  },
  {
   "cell_type": "code",
   "execution_count": null,
   "id": "50a65a41",
   "metadata": {
    "lines_to_next_cell": 2
   },
   "outputs": [],
   "source": [
    "fig3 = plt.figure(figsize=(12, 6))\n",
    "ax1 = fig3.add_axes([0.03, 0.03, 0.3, 0.85], projection=mrc)\n",
    "ax2 = fig3.add_axes([0.36, 0.03, 0.3, 0.85], projection=mrc)\n",
    "ax3 = fig3.add_axes([0.69, 0.03, 0.3, 0.85], projection=mrc)\n",
    "cax1 = fig3.add_axes([0.03, 0.94, 0.3, 0.02])\n",
    "cax2 = fig3.add_axes([0.36, 0.94, 0.3, 0.02])\n",
    "cax3 = fig3.add_axes([0.69, 0.94, 0.3, 0.02])\n",
    "\n",
    "cs1 = ax1.pcolormesh(lon, lat, bot_temp, vmin=-2, vmax=7, transform=data_crs, cmap=my_cm)\n",
    "cs2 = ax2.pcolormesh(lon, lat, bot_sal, vmin=34.5, vmax=35.5, transform=data_crs, cmap=my_cm)\n",
    "cs3 = ax3.pcolormesh(lon, lat, bot_rho, vmin=1027.5, vmax=1028.5, transform=data_crs, cmap=my_cm)\n",
    "\n",
    "ax1.add_feature(cfeature.LAND, zorder=100)\n",
    "ax2.add_feature(cfeature.LAND, zorder=100)\n",
    "ax3.add_feature(cfeature.LAND, zorder=100)\n",
    "ax1.gridlines()\n",
    "ax2.gridlines()\n",
    "ax3.gridlines()\n",
    "\n",
    "ax1.set_extent([-180, 180, 60, 90], crs=data_crs)\n",
    "ax2.set_extent([-180, 180, 60, 90], crs=data_crs)\n",
    "ax3.set_extent([-180, 180, 60, 90], crs=data_crs)\n",
    "set_circle(ax1)\n",
    "set_circle(ax2)\n",
    "set_circle(ax3)\n",
    "\n",
    "\n",
    "fig3.colorbar(cs1, cax=cax1, orientation='horizontal')\n",
    "fig3.colorbar(cs2, cax=cax2, orientation='horizontal')\n",
    "fig3.colorbar(cs3, cax=cax3, orientation='horizontal')\n",
    "\n",
    "cax1.set_xlabel('Temperature ($^{\\circ}C$)')\n",
    "cax2.set_xlabel('Salinity')\n",
    "cax3.set_xlabel('Density (kg/m$^{3}$)')\n",
    "\n",
    "ax1.annotate('(a)', (0.05, 0.95), xycoords='axes fraction', bbox=dict(boxstyle=\"round\", fc=\"w\"), zorder=105)\n",
    "ax2.annotate('(b)', (0.05, 0.95), xycoords='axes fraction', bbox=dict(boxstyle=\"round\", fc=\"w\"), zorder=105)\n",
    "ax3.annotate('(c)', (0.05, 0.95), xycoords='axes fraction', bbox=dict(boxstyle=\"round\", fc=\"w\"), zorder=105)"
   ]
  },
  {
   "cell_type": "code",
   "execution_count": null,
   "id": "3278c989",
   "metadata": {
    "lines_to_next_cell": 2
   },
   "outputs": [],
   "source": [
    "fig1.savefig('./Figures/surface_lat_lon.png')\n",
    "fig2.savefig('./Figures/surface_t_s.png')\n",
    "fig3.savefig('./Figures/bottom_t_s.png')"
   ]
  }
 ],
 "metadata": {
  "jupytext": {
   "cell_metadata_filter": "-all",
   "encoding": "# coding: utf-8",
   "executable": "/usr/bin/env python",
   "main_language": "python",
   "notebook_metadata_filter": "-all"
  },
  "kernelspec": {
   "display_name": "Python 3 + Jaspy",
   "language": "python",
   "name": "jaspy"
  },
  "language_info": {
   "codemirror_mode": {
    "name": "ipython",
    "version": 3
   },
   "file_extension": ".py",
   "mimetype": "text/x-python",
   "name": "python",
   "nbconvert_exporter": "python",
   "pygments_lexer": "ipython3",
   "version": "3.10.5"
  }
 },
 "nbformat": 4,
 "nbformat_minor": 5
}
