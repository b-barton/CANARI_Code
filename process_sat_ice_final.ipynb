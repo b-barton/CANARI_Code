{
 "cells": [
  {
   "cell_type": "code",
   "execution_count": null,
   "id": "e699727f",
   "metadata": {
    "lines_to_next_cell": 2
   },
   "outputs": [],
   "source": [
    "import numpy as np\n",
    "import glob\n",
    "import netCDF4 as nc\n",
    "import datetime as dt\n",
    "import sys\n",
    "import gsw as sw\n",
    "import cartopy.crs as ccrs\n",
    "import cartopy.feature as cfeature\n",
    "import matplotlib\n",
    "matplotlib.use('agg')\n",
    "import matplotlib.pyplot as plt\n",
    "import matplotlib.path as mpath\n",
    "import cftime\n",
    "import coast\n",
    "import xarray as xr\n",
    "import dask\n",
    "import haversine as ha"
   ]
  },
  {
   "cell_type": "code",
   "execution_count": null,
   "id": "c57df360",
   "metadata": {
    "lines_to_next_cell": 2
   },
   "outputs": [],
   "source": [
    "root = '/gws/nopw/j04/canari/users/benbar/Data/Sat_Sea_Ice/'\n",
    "fn_dat_sic = root + 'METOFFICE-GLO-SST-L4-REP-OBS-SST_*.nc'\n",
    "\n",
    "out_file = './Processed/'"
   ]
  },
  {
   "cell_type": "code",
   "execution_count": null,
   "id": "d47c6799",
   "metadata": {},
   "outputs": [],
   "source": [
    "# change this to decrease resolution but decrease run time\n",
    "sub = 1\n",
    "now = dt.datetime.now()\n",
    "\n",
    "flist_sic = sorted(glob.glob(fn_dat_sic))\n",
    "\n",
    "v_map = {}\n",
    "v_map['tmask'] = 'mask'\n",
    "v_map['lat'] = 'lat'\n",
    "v_map['lon'] = 'lon'\n",
    "v_map['time'] = 'time'\n",
    "v_map['siconc'] = 'sea_ice_fraction'\n",
    "\n",
    "with nc.Dataset(flist_sic[0], 'r') as nc_fid:\n",
    "    siconc = nc_fid.variables[v_map['siconc']][:]\n",
    "    lat = nc_fid.variables[v_map['lat']][:]\n",
    "    lon = nc_fid.variables[v_map['lon']][:]\n",
    "    tmask = nc_fid.variables[v_map['tmask']][:]\n",
    "\n",
    "\n",
    "lon_bnds, lat_bnds = (-180, 180), (60, 90)\n",
    "y1 = np.min(np.nonzero((lat >= lat_bnds[0]))[0])\n",
    "y2 = np.max(np.nonzero((lat <= lat_bnds[1]))[0])\n",
    "x1 = np.min(np.nonzero((lon >= lon_bnds[0]))[0])\n",
    "x2 = np.max(np.nonzero((lon <= lon_bnds[1]))[0])\n",
    "    \n",
    "lat = lat[y1:y2:sub]\n",
    "lon = lon[x1:x2:sub]\n",
    "tmask = (tmask[0, y1:y2:sub, x1:x2:sub] == 0)[np.newaxis, :, :]\n",
    "\n",
    "def dask_load_i(fn_sic, tmask, y1, y2, x1, x2, sub):\n",
    "    lazy_arrays = [dask.delayed(nc.Dataset)(fn, 'r') for fn in fn_sic]\n",
    "    lazy_arrays = [dask.array.from_delayed(\n",
    "                        x.variables[v_map['siconc']][:, y1:y2:sub, x1:x2:sub], shape=siconc[:, y1:y2:sub, x1:x2:sub].shape, dtype=np.float64) \n",
    "                        for x in lazy_arrays]\n",
    "    # daily to monthly\n",
    "    lazy_arrays = [x.mean(axis=0)[np.newaxis, :, :]\n",
    "                        for x in lazy_arrays]\n",
    "    ds_sic = dask.array.concatenate(lazy_arrays[:], axis=0)\n",
    "    ds_sic = ds_sic.rechunk(chunks={0:1, 1:100, 2:100})#, balance=True)\n",
    "    tmask = dask.array.from_array(tmask)\n",
    "    tmask = tmask.rechunk(chunks={0:1, 1:100, 2:100})#, balance=True)\n",
    "    tmask = tmask.repeat(ds_sic.shape[0], axis=0)\n",
    "    print(ds_sic.shape, tmask.shape)\n",
    "    ds_sic = dask.array.ma.masked_array(ds_sic, mask=tmask)\n",
    "    \n",
    "    print(ds_sic) # t, z, y, x\n",
    "\n",
    "    return ds_sic\n"
   ]
  },
  {
   "cell_type": "code",
   "execution_count": null,
   "id": "481b58fd",
   "metadata": {},
   "outputs": [],
   "source": [
    "dx, dy = ha.area(lon, lat)\n",
    "area = np.zeros((lat.shape[0], lon.shape[0]))\n",
    "area[:lat.shape[0], :lon.shape[0]] = dx * dy\n",
    "area[-1, :] = area[-2, :]\n",
    "area[:, -1] = area[:, -2]\n",
    "\n",
    "mask_south = np.zeros((lat.shape[0], lon.shape[0], 3), dtype=bool)\n",
    "mask_south[:, :, 0] = lat[:, np.newaxis].repeat(lon.shape[0], axis=1) < 70\n",
    "mask_south[:, :, 1] = lat[:, np.newaxis].repeat(lon.shape[0], axis=1) < 75\n",
    "mask_south[:, :, 2] = lat[:, np.newaxis].repeat(lon.shape[0], axis=1) < 80\n",
    "\n",
    "    \n",
    "ref = dt.datetime(1981, 1, 1)\n",
    "date = np.zeros((len(flist_sic)), dtype=object)\n",
    "c = 0\n",
    "for i in range(len(flist_sic)):\n",
    "    with nc.Dataset(flist_sic[i], 'r') as nc_fid:\n",
    "        time = nc_fid.variables[v_map['time']][:]\n",
    "    date[i] = ref + dt.timedelta(seconds=int(time[0]))\n",
    "\n",
    "    \n",
    "area = dask.array.from_array(area[np.newaxis, :, :], chunks={0:1, 1:100, 2:100})\n",
    "mask_south = dask.array.from_array(mask_south[np.newaxis, :, :, :], chunks={0:1, 0:100, 1:100, 2:-1})\n",
    "area = area.repeat(12, axis=0)\n",
    "mask_south = mask_south.repeat(12, axis=0)\n",
    "\n",
    "sic_time = np.ma.zeros((len(flist_sic), 3))\n",
    "\n",
    "for i in range(len(flist_sic) // 12):\n",
    "    #i1 = int(i)\n",
    "    #i2 = int((i + 1))\n",
    "    i1 = int(i * 12)\n",
    "    i2 = int((i + 1) * 12)\n",
    "    \n",
    "    ds_sic = dask_load_i(flist_sic[i1:i2], tmask, y1, y2, x1, x2, sub)\n",
    "\n",
    "    sic_part = (\n",
    "        dask.array.ma.masked_where(mask_south, \n",
    "        (ds_sic * area)\n",
    "        [:, :, :, np.newaxis].repeat(3, axis=3)) # t, y, x, mask\n",
    "        .sum(axis=(1, 2)) # t, mask\n",
    "        )\n",
    "\n",
    "    print(date[i1])\n",
    "    print(sic_part)\n",
    "    sic_time[i1:i2, :] = sic_part.compute()\n",
    "\n",
    "print(sic_time.shape)\n",
    "                                       "
   ]
  },
  {
   "cell_type": "markdown",
   "id": "ee167fa5-d9b1-46e5-831a-418c4666e2b7",
   "metadata": {},
   "source": [
    "Save data"
   ]
  },
  {
   "cell_type": "code",
   "execution_count": null,
   "id": "9f8a29af-8460-4317-ad53-5679a2433bfb",
   "metadata": {},
   "outputs": [],
   "source": [
    "print('Runtime:', dt.datetime.now() - now)\n",
    "sic_time = sic_time.filled(-1e20)\n",
    "np.savez(out_file + 'sat_ice_time.npz', sic_time=sic_time, date=date)"
   ]
  }
 ],
 "metadata": {
  "jupytext": {
   "cell_metadata_filter": "-all",
   "encoding": "# coding: utf-8",
   "executable": "/usr/bin/env python",
   "main_language": "python",
   "notebook_metadata_filter": "-all"
  },
  "kernelspec": {
   "display_name": "Python 3 + Jaspy",
   "language": "python",
   "name": "jaspy"
  },
  "language_info": {
   "codemirror_mode": {
    "name": "ipython",
    "version": 3
   },
   "file_extension": ".py",
   "mimetype": "text/x-python",
   "name": "python",
   "nbconvert_exporter": "python",
   "pygments_lexer": "ipython3",
   "version": "3.10.5"
  }
 },
 "nbformat": 4,
 "nbformat_minor": 5
}
