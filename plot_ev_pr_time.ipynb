{
 "cells": [
  {
   "cell_type": "code",
   "execution_count": null,
   "id": "e699727f",
   "metadata": {
    "lines_to_next_cell": 2
   },
   "outputs": [],
   "source": [
    "import numpy as np\n",
    "import glob\n",
    "import netCDF4 as nc\n",
    "import datetime as dt\n",
    "import sys\n",
    "import gsw as sw\n",
    "import cartopy.crs as ccrs\n",
    "import cartopy.feature as cfeature\n",
    "import matplotlib\n",
    "matplotlib.use('agg')\n",
    "import matplotlib.pyplot as plt\n",
    "import matplotlib.path as mpath\n",
    "import cftime\n",
    "import coast\n",
    "import xarray as xr"
   ]
  },
  {
   "cell_type": "code",
   "execution_count": null,
   "id": "c57df360",
   "metadata": {
    "lines_to_next_cell": 2
   },
   "outputs": [],
   "source": [
    "\n",
    "out_file = './Processed/'"
   ]
  },
  {
   "cell_type": "code",
   "execution_count": null,
   "id": "93e59de0-38b3-4c48-af45-d6b6ab224f60",
   "metadata": {},
   "outputs": [],
   "source": [
    "# Load timeseries data\n",
    "\n",
    "data = np.load(out_file + 'pr_ev_time.npz', allow_pickle=True)\n",
    "evap_time = data['evap_time']\n",
    "prec_time = data['prec_time']\n",
    "date = data['date']\n",
    "data.close()\n",
    "\n",
    "evap_time = np.ma.masked_where(evap_time==-1e20, evap_time)\n",
    "prec_time = np.ma.masked_where(prec_time==-1e20, prec_time)\n",
    "\n",
    "prec_time = prec_time - evap_time\n",
    "\n",
    "data = np.load(out_file + 'pr_ev_mn_1990-2000.npz', allow_pickle=True)\n",
    "prec_map1 = data['prec_map']\n",
    "evap_map1 = data['evap_map']\n",
    "lat = data['lat']\n",
    "lon = data['lon']\n",
    "data.close()\n",
    "\n",
    "prec_map1 = np.ma.masked_where(prec_map1==-1e20, prec_map1)\n",
    "evap_map1 = np.ma.masked_where(evap_map1==-1e20, evap_map1)\n",
    "prec_map1 = prec_map1 - evap_map1\n",
    "\n",
    "prec_mean1 = np.ma.mean(prec_map1, axis=0)\n",
    "prec_std1 = np.ma.std(prec_map1, axis=0)\n",
    "\n",
    "data = np.load(out_file + 'pr_ev_mn_2040-2050.npz', allow_pickle=True)\n",
    "prec_map2 = data['prec_map']\n",
    "evap_map2 = data['evap_map']\n",
    "lat = data['lat']\n",
    "lon = data['lon']\n",
    "data.close()\n",
    "\n",
    "prec_map2 = np.ma.masked_where(prec_map2==-1e20, prec_map2)\n",
    "evap_map2 = np.ma.masked_where(evap_map2==-1e20, evap_map2)\n",
    "prec_map2 = prec_map2 - evap_map2\n",
    "\n",
    "prec_mean2 = np.ma.mean(prec_map2, axis=0)\n",
    "prec_std2 = np.ma.std(prec_map2, axis=0)\n",
    "\n",
    "plot_date = np.zeros((len(date)), dtype=object)\n",
    "for i in range(len(date)):\n",
    "    bb = date[i].timetuple()\n",
    "    plot_date[i] = dt.datetime(bb[0], bb[1], 1)"
   ]
  },
  {
   "cell_type": "code",
   "execution_count": null,
   "id": "87fd37e8-808f-4844-a01d-8cb7515d959c",
   "metadata": {},
   "outputs": [],
   "source": [
    "# Running mean\n",
    "\n",
    "run = 12\n",
    "prec_run = np.ma.zeros((prec_time.shape[0] - run, prec_time.shape[1]))\n",
    "date_run = np.zeros((len(plot_date) - run), dtype=object)\n",
    "\n",
    "for i in range(len(date_run)):\n",
    "    prec_run[i] = np.ma.mean(prec_time[i:i + run, :], axis=0)\n",
    "    date_run[i] = plot_date[i + (run // 2)]\n",
    "    "
   ]
  },
  {
   "cell_type": "markdown",
   "id": "ee167fa5-d9b1-46e5-831a-418c4666e2b7",
   "metadata": {},
   "source": [
    "Plot"
   ]
  },
  {
   "cell_type": "code",
   "execution_count": null,
   "id": "1b6a754c-c92a-4924-94ba-aa2168b92857",
   "metadata": {},
   "outputs": [],
   "source": [
    "def set_circle(ax):\n",
    "    # Compute a circle in axes coordinates, which we can use as a boundary\n",
    "    # for the map. We can pan/zoom as much as we like - the boundary will be\n",
    "    # permanently circular.\n",
    "    theta = np.linspace(0, 2 * np.pi, 100)\n",
    "    center, radius = [0.5, 0.5], 0.5\n",
    "    verts = np.vstack([np.sin(theta), np.cos(theta)]).T\n",
    "    circle = mpath.Path(verts * radius + center)\n",
    "    ax.set_boundary(circle, transform=ax.transAxes)"
   ]
  },
  {
   "cell_type": "code",
   "execution_count": null,
   "id": "76be8396-7fe0-4735-b662-858d7775ccd3",
   "metadata": {},
   "outputs": [],
   "source": [
    "data_crs = ccrs.PlateCarree()\n",
    "mrc = ccrs.NorthPolarStereo(central_longitude=0.0)\n",
    "\n",
    "my_cm = plt.cm.plasma"
   ]
  },
  {
   "cell_type": "code",
   "execution_count": null,
   "id": "90d7f202",
   "metadata": {
    "lines_to_next_cell": 2
   },
   "outputs": [],
   "source": [
    "fig1 = plt.figure(figsize=(12, 8))\n",
    "ax5 = fig1.add_axes([0.1, 0.66, 0.85, 0.3])\n",
    "\n",
    "ax1 = fig1.add_axes([0.01, 0.04, 0.23, 0.45], projection=mrc)\n",
    "ax2 = fig1.add_axes([0.26, 0.04, 0.23, 0.45], projection=mrc)\n",
    "ax3 = fig1.add_axes([0.51, 0.04, 0.23, 0.45], projection=mrc)\n",
    "ax4 = fig1.add_axes([0.76, 0.04, 0.23, 0.45], projection=mrc)\n",
    "\n",
    "cax1 = fig1.add_axes([0.03, 0.56, 0.19, 0.02])\n",
    "cax2 = fig1.add_axes([0.28, 0.56, 0.19, 0.02])\n",
    "cax3 = fig1.add_axes([0.53, 0.56, 0.19, 0.02])\n",
    "cax4 = fig1.add_axes([0.78, 0.56, 0.19, 0.02])\n",
    "\n",
    "cs1 = ax1.pcolormesh(lon, lat, prec_mean1, transform=data_crs, cmap=my_cm, vmin=-0.00001, vmax=0.00005)\n",
    "cs2 = ax2.pcolormesh(lon, lat, prec_mean2 - prec_mean1, transform=data_crs, cmap=my_cm, vmin=-1e-5, vmax=1e-5)\n",
    "\n",
    "cs3 = ax3.pcolormesh(lon, lat, prec_std1, transform=data_crs, cmap=my_cm, vmin=0, vmax=2e-5)\n",
    "cs4 = ax4.pcolormesh(lon, lat, prec_std2 - prec_std1, transform=data_crs, cmap=my_cm, vmin=-1e-5, vmax=1e-5)\n",
    "\n",
    "#ax5.plot(plot_date, evap_time[:, 0], color='tab:red', alpha=0.5)\n",
    "ax5.plot(plot_date, prec_time[:, 0], color='tab:blue', alpha=0.5)\n",
    "ax5.plot(plot_date, prec_time[:, 1], color='tab:orange', alpha=0.5)\n",
    "ax5.plot(plot_date, prec_time[:, 2], color='tab:green', alpha=0.5)\n",
    "\n",
    "ax5.plot(date_run, prec_run[:, 0], color='tab:blue', label='> 70 N')\n",
    "ax5.plot(date_run, prec_run[:, 1], color='tab:orange', label='> 75 N')\n",
    "ax5.plot(date_run, prec_run[:, 2], color='tab:green', label='> 80 N')\n",
    "\n",
    "ax5.plot([dt.datetime(1990, 1, 1), dt.datetime(1990, 1, 1), dt.datetime(2000, 1, 1), dt.datetime(2000, 1, 1), dt.datetime(1990, 1, 1)], \n",
    "         [-4e22, 4e22, 4e22, -4e22, -4e22], 'k', zorder=105)\n",
    "ax5.plot([dt.datetime(2040, 1, 1), dt.datetime(2040, 1, 1), dt.datetime(2050, 1, 1), dt.datetime(2050, 1, 1), dt.datetime(2040, 1, 1)], \n",
    "         [-4e22, 4e22, 4e22, -4e22, -4e22], 'k', zorder=105)\n",
    "\n",
    "ax1.add_feature(cfeature.LAND, zorder=100)\n",
    "ax1.gridlines()\n",
    "ax1.set_extent([-180, 180, 60, 90], crs=data_crs)\n",
    "set_circle(ax1)\n",
    "\n",
    "ax2.add_feature(cfeature.LAND, zorder=100)\n",
    "ax2.gridlines()\n",
    "ax2.set_extent([-180, 180, 60, 90], crs=data_crs)\n",
    "set_circle(ax2)\n",
    "\n",
    "ax3.add_feature(cfeature.LAND, zorder=100)\n",
    "ax3.gridlines()\n",
    "ax3.set_extent([-180, 180, 60, 90], crs=data_crs)\n",
    "set_circle(ax3)\n",
    "\n",
    "ax4.add_feature(cfeature.LAND, zorder=100)\n",
    "ax4.gridlines()\n",
    "ax4.set_extent([-180, 180, 60, 90], crs=data_crs)\n",
    "set_circle(ax4)\n",
    "\n",
    "ax5.set_ylim([-0.2e8, 2e8])\n",
    "ax5.set_xlim([dt.datetime(1950, 1, 1), dt.datetime(2051, 1, 1)])\n",
    "ax5.legend(loc='upper right')\n",
    "ax5.set_ylabel('Precip. - Evap. (kg s$^{-1}$)')\n",
    "\n",
    "ax5.annotate('(a)', (0.05, 0.95), xycoords='axes fraction', bbox=dict(boxstyle=\"round\", fc=\"w\"), zorder=105)\n",
    "\n",
    "ax1.annotate('(b) 1990s', (0.05, 0.95), xycoords='axes fraction', bbox=dict(boxstyle=\"round\", fc=\"w\"), zorder=105)\n",
    "ax2.annotate('(c) 2040s', (0.05, 0.95), xycoords='axes fraction', bbox=dict(boxstyle=\"round\", fc=\"w\"), zorder=105)\n",
    "ax3.annotate('(d) 1990s', (0.05, 0.95), xycoords='axes fraction', bbox=dict(boxstyle=\"round\", fc=\"w\"), zorder=105)\n",
    "ax4.annotate('(e) 2040s', (0.05, 0.95), xycoords='axes fraction', bbox=dict(boxstyle=\"round\", fc=\"w\"), zorder=105)\n",
    "\n",
    "\n",
    "fig1.colorbar(cs1, cax=cax1, orientation='horizontal')\n",
    "cax1.set_xlabel('Precip. - Evap. (kg m$^{-2}$ s$^{-1}$)')\n",
    "\n",
    "fig1.colorbar(cs2, cax=cax2, orientation='horizontal')\n",
    "cax2.set_xlabel('Diff. P - E (kg m$^{-2}$ s$^{-1}$)')\n",
    "\n",
    "fig1.colorbar(cs3, cax=cax3, orientation='horizontal')\n",
    "cax3.set_xlabel('Precip. - Evap. StD. (kg m$^{-2}$ s$^{-1}$)')\n",
    "\n",
    "fig1.colorbar(cs4, cax=cax4, orientation='horizontal')\n",
    "cax4.set_xlabel('Diff. P - E StD. (kg m$^{-2}$ s$^{-1}$)')"
   ]
  },
  {
   "cell_type": "code",
   "execution_count": null,
   "id": "3278c989",
   "metadata": {
    "lines_to_next_cell": 2
   },
   "outputs": [],
   "source": [
    "fig1.savefig('./Figures/prec_time.png')\n"
   ]
  }
 ],
 "metadata": {
  "jupytext": {
   "cell_metadata_filter": "-all",
   "encoding": "# coding: utf-8",
   "executable": "/usr/bin/env python",
   "main_language": "python",
   "notebook_metadata_filter": "-all"
  },
  "kernelspec": {
   "display_name": "Python 3 + Jaspy",
   "language": "python",
   "name": "jaspy"
  },
  "language_info": {
   "codemirror_mode": {
    "name": "ipython",
    "version": 3
   },
   "file_extension": ".py",
   "mimetype": "text/x-python",
   "name": "python",
   "nbconvert_exporter": "python",
   "pygments_lexer": "ipython3",
   "version": "3.10.5"
  }
 },
 "nbformat": 4,
 "nbformat_minor": 5
}
